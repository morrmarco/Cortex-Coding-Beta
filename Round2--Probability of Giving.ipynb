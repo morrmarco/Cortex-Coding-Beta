{
 "cells": [
  {
   "cell_type": "markdown",
   "id": "865ca784",
   "metadata": {},
   "source": [
    "![Python_logo](https://www.python.org/static/community_logos/python-logo-master-v3-TM.png)\n",
    "\n",
    "\n",
    "  # **Cortex Game: Round2--Probability of Giving**"
   ]
  },
  {
   "cell_type": "markdown",
   "id": "52b54409-4263-4803-9885-f1d69a1f3b09",
   "metadata": {},
   "source": [
    "> Befor playing the game, you need to connect to SASPy first.\n",
    ">\n",
    ">> If it is your first time, please follow the 4 steps mentionned below!"
   ]
  },
  {
   "cell_type": "markdown",
   "id": "498431a0-0072-4339-8518-a792a478864a",
   "metadata": {},
   "source": [
    "***\n",
    "## **Connect to SASPy**"
   ]
  },
  {
   "cell_type": "markdown",
   "id": "20c560d8-417b-46d4-8a08-25ed51675d51",
   "metadata": {},
   "source": [
    "**1- Make sure that your Python version is 3.3 or higher**"
   ]
  },
  {
   "cell_type": "code",
   "execution_count": 1,
   "id": "391078cc-a49b-4d15-a6f0-f09729e12b03",
   "metadata": {},
   "outputs": [
    {
     "name": "stdout",
     "output_type": "stream",
     "text": [
      "3.8.8\n"
     ]
    }
   ],
   "source": [
    "from platform import python_version\n",
    "print (python_version())"
   ]
  },
  {
   "cell_type": "markdown",
   "id": "7841f1b0-4f5e-442b-a9f4-e4e9de14febc",
   "metadata": {},
   "source": [
    "**2- Install SASPy**"
   ]
  },
  {
   "cell_type": "code",
   "execution_count": 2,
   "id": "9e7302de-3448-4cd0-be20-e8d061754f23",
   "metadata": {},
   "outputs": [
    {
     "name": "stdout",
     "output_type": "stream",
     "text": [
      "Requirement already satisfied: saspy in c:\\users\\11091047.hec\\anaconda3\\lib\\site-packages (3.7.5)\n",
      "Note: you may need to restart the kernel to use updated packages.\n"
     ]
    }
   ],
   "source": [
    "pip install saspy"
   ]
  },
  {
   "cell_type": "markdown",
   "id": "85058ca1-909f-436c-bbb9-dd0fdfdb19af",
   "metadata": {},
   "source": [
    "**3- Make sure that the configuration file \"sascfg_personal.py\" is correctly created**"
   ]
  },
  {
   "cell_type": "code",
   "execution_count": 3,
   "id": "c2ce4213-2209-4b84-acf4-4a948e29b70e",
   "metadata": {
    "tags": []
   },
   "outputs": [
    {
     "name": "stdout",
     "output_type": "stream",
     "text": [
      "C:\\Users\\11091047.HEC\\Anaconda3\\lib\\site-packages\\saspy\\sascfg_personal.py\n"
     ]
    }
   ],
   "source": [
    "import saspy, os\n",
    "print(saspy.__file__.replace('__init__.py', 'sascfg_personal.py'))"
   ]
  },
  {
   "cell_type": "markdown",
   "id": "0960ac70-8d02-4ba5-a115-f6233f713214",
   "metadata": {},
   "source": [
    "**4- Establish Connection (Need to do this step each time you use SASPy)**"
   ]
  },
  {
   "cell_type": "code",
   "execution_count": 4,
   "id": "7e45b4e0-ab05-4aae-9e7b-56742870da33",
   "metadata": {},
   "outputs": [
    {
     "name": "stdout",
     "output_type": "stream",
     "text": [
      "Using SAS Config named: oda\n",
      "SAS Connection established. Subprocess id is 162632\n",
      "\n"
     ]
    },
    {
     "data": {
      "text/plain": [
       "Access Method         = IOM\n",
       "SAS Config name       = oda\n",
       "SAS Config file       = C:\\Users\\11091047.HEC\\Anaconda3\\lib\\site-packages\\saspy\\sascfg_personal.py\n",
       "WORK Path             = /saswork/SAS_work1D730000B501_odaws04-usw2.oda.sas.com/SAS_work8DCB0000B501_odaws04-usw2.oda.sas.com/\n",
       "SAS Version           = 9.04.01M6P11072018\n",
       "SASPy Version         = 3.7.5\n",
       "Teach me SAS          = False\n",
       "Batch                 = False\n",
       "Results               = Pandas\n",
       "SAS Session Encoding  = utf-8\n",
       "Python Encoding value = utf-8\n",
       "SAS process Pid value = 46337\n"
      ]
     },
     "execution_count": 4,
     "metadata": {},
     "output_type": "execute_result"
    }
   ],
   "source": [
    "import saspy\n",
    "sas_session = saspy.SASsession()\n",
    "sas_session"
   ]
  },
  {
   "cell_type": "markdown",
   "id": "c472cd92-026b-439e-bf51-6130edda29e2",
   "metadata": {},
   "source": [
    "***\n",
    "## Connect to Cortex Data Sets"
   ]
  },
  {
   "cell_type": "markdown",
   "id": "819d3592",
   "metadata": {},
   "source": [
    "Load raw datasets from SAS Studio (Change the folder path to where your \"Cortex Data Sets\" folder is located.)"
   ]
  },
  {
   "cell_type": "markdown",
   "id": "45cfc8cb",
   "metadata": {},
   "source": [
    "<div class=\"alert alert-block alert-danger\"><b>Warning:</b> Please do not forget to change the user ID <strong> u38069370 </strong> with your own user credential!\n",
    "</div>\n"
   ]
  },
  {
   "cell_type": "code",
   "execution_count": 5,
   "id": "d4204cf9",
   "metadata": {},
   "outputs": [
    {
     "data": {
      "text/html": [
       "<!DOCTYPE html PUBLIC \"-//W3C//DTD HTML 4.01//EN\"\n",
       "   \"http://www.w3.org/TR/html4/strict.dtd\">\n",
       "<!--\n",
       "generated by Pygments <https://pygments.org/>\n",
       "Copyright 2006-2021 by the Pygments team.\n",
       "Licensed under the BSD license, see LICENSE for details.\n",
       "-->\n",
       "<html>\n",
       "<head>\n",
       "  <title></title>\n",
       "  <meta http-equiv=\"content-type\" content=\"text/html; charset=None\">\n",
       "  <style type=\"text/css\">\n",
       "/*\n",
       "generated by Pygments <https://pygments.org/>\n",
       "Copyright 2006-2021 by the Pygments team.\n",
       "Licensed under the BSD license, see LICENSE for details.\n",
       "*/\n",
       "pre { line-height: 125%; }\n",
       "td.linenos .normal { color: inherit; background-color: transparent; padding-left: 5px; padding-right: 5px; }\n",
       "span.linenos { color: inherit; background-color: transparent; padding-left: 5px; padding-right: 5px; }\n",
       "td.linenos .special { color: #000000; background-color: #ffffc0; padding-left: 5px; padding-right: 5px; }\n",
       "span.linenos.special { color: #000000; background-color: #ffffc0; padding-left: 5px; padding-right: 5px; }\n",
       "body .hll { background-color: #ffffcc }\n",
       "body { background: #ffffff; }\n",
       "body .c { color: #0000FF } /* Comment */\n",
       "body .k { color: #ff0000; font-weight: bold } /* Keyword */\n",
       "body .n { color: #008000 } /* Name */\n",
       "body .ch { color: #0000FF } /* Comment.Hashbang */\n",
       "body .cm { color: #0000FF } /* Comment.Multiline */\n",
       "body .cp { color: #0000FF } /* Comment.Preproc */\n",
       "body .cpf { color: #0000FF } /* Comment.PreprocFile */\n",
       "body .c1 { color: #0000FF } /* Comment.Single */\n",
       "body .cs { color: #0000FF } /* Comment.Special */\n",
       "body .kc { color: #ff0000; font-weight: bold } /* Keyword.Constant */\n",
       "body .kd { color: #ff0000; font-weight: bold } /* Keyword.Declaration */\n",
       "body .kn { color: #ff0000; font-weight: bold } /* Keyword.Namespace */\n",
       "body .kp { color: #ff0000; font-weight: bold } /* Keyword.Pseudo */\n",
       "body .kr { color: #ff0000; font-weight: bold } /* Keyword.Reserved */\n",
       "body .kt { color: #ff0000; font-weight: bold } /* Keyword.Type */\n",
       "body .s { color: #111111 } /* Literal.String */\n",
       "body .na { color: #008000 } /* Name.Attribute */\n",
       "body .nb { color: #008000 } /* Name.Builtin */\n",
       "body .nc { color: #008000 } /* Name.Class */\n",
       "body .no { color: #008000 } /* Name.Constant */\n",
       "body .nd { color: #008000 } /* Name.Decorator */\n",
       "body .ni { color: #008000 } /* Name.Entity */\n",
       "body .ne { color: #008000 } /* Name.Exception */\n",
       "body .nf { color: #008000 } /* Name.Function */\n",
       "body .nl { color: #008000 } /* Name.Label */\n",
       "body .nn { color: #008000 } /* Name.Namespace */\n",
       "body .nx { color: #008000 } /* Name.Other */\n",
       "body .py { color: #008000 } /* Name.Property */\n",
       "body .nt { color: #008000 } /* Name.Tag */\n",
       "body .nv { color: #008000 } /* Name.Variable */\n",
       "body .sa { color: #111111 } /* Literal.String.Affix */\n",
       "body .sb { color: #111111 } /* Literal.String.Backtick */\n",
       "body .sc { color: #111111 } /* Literal.String.Char */\n",
       "body .dl { color: #111111 } /* Literal.String.Delimiter */\n",
       "body .sd { color: #111111 } /* Literal.String.Doc */\n",
       "body .s2 { color: #111111 } /* Literal.String.Double */\n",
       "body .se { color: #111111 } /* Literal.String.Escape */\n",
       "body .sh { color: #111111 } /* Literal.String.Heredoc */\n",
       "body .si { color: #111111 } /* Literal.String.Interpol */\n",
       "body .sx { color: #111111 } /* Literal.String.Other */\n",
       "body .sr { color: #111111 } /* Literal.String.Regex */\n",
       "body .s1 { color: #111111 } /* Literal.String.Single */\n",
       "body .ss { color: #111111 } /* Literal.String.Symbol */\n",
       "body .bp { color: #008000 } /* Name.Builtin.Pseudo */\n",
       "body .fm { color: #008000 } /* Name.Function.Magic */\n",
       "body .vc { color: #008000 } /* Name.Variable.Class */\n",
       "body .vg { color: #008000 } /* Name.Variable.Global */\n",
       "body .vi { color: #008000 } /* Name.Variable.Instance */\n",
       "body .vm { color: #008000 } /* Name.Variable.Magic */\n",
       "\n",
       "  </style>\n",
       "</head>\n",
       "<body>\n",
       "<h2></h2>\n",
       "\n",
       "<div class=\"highlight\"><pre><span></span><span class=\"s\">7                                                          The SAS System                      Tuesday, 26 October, 2021 01:16:00 PM</span><br><br><span class=\"s\">34         ods listing close;ods html5 (id=saspy_internal) file=_tomods1 options(bitmap_mode=&#39;inline&#39;) device=svg style=HTMLBlue;</span><br><span class=\"s\">34       ! ods graphics on / outputfmt=png;</span><br><span class=\"s\">35         </span><br><span class=\"s\">36         </span><br><span class=\"s\">37         libname cortex &#39;/home/u38069370/my_shared_file_links/u39842936/Cortex Data Sets&#39;;</span><br><span class=\"s\">38         </span><br><span class=\"s\">39         </span><br><span class=\"s\">40         </span><br><span class=\"s\">41         ods html5 (id=saspy_internal) close;ods listing;</span><br><span class=\"s\">42         </span><br><br><span class=\"s\">8                                                          The SAS System                      Tuesday, 26 October, 2021 01:16:00 PM</span><br><br><span class=\"s\">43         </span><br></pre></div>\n",
       "</body>\n",
       "</html>\n"
      ],
      "text/plain": [
       "<IPython.core.display.HTML object>"
      ]
     },
     "execution_count": 5,
     "metadata": {},
     "output_type": "execute_result"
    }
   ],
   "source": [
    "%%SAS sas_session\n",
    "\n",
    "libname cortex '/home/u38069370/my_shared_file_links/u39842936/Cortex Data Sets';"
   ]
  },
  {
   "cell_type": "markdown",
   "id": "bb730ee9",
   "metadata": {},
   "source": [
    "### Transform cloud SAS dataset to Python dataframe (pandas)\n",
    "\n",
    "For reference: \n",
    "\n",
    "1. [Pandas library](https://pandas.pydata.org/docs/user_guide/index.html)\n",
    "\n",
    "\n",
    "2. [sklearn.model_selection for data partition](https://scikit-learn.org/stable/modules/generated/sklearn.model_selection.train_test_split.html)"
   ]
  },
  {
   "cell_type": "code",
   "execution_count": 6,
   "id": "f298efcc",
   "metadata": {},
   "outputs": [],
   "source": [
    "import pandas as pd\n",
    "\n",
    "data1 = sas_session.sasdata2dataframe(\n",
    "table='hist',\n",
    "libref='cortex'\n",
    ")\n",
    "\n",
    "data2 = sas_session.sasdata2dataframe(\n",
    "table='target_rd2',\n",
    "libref='cortex'\n",
    ")"
   ]
  },
  {
   "cell_type": "markdown",
   "id": "beaff555-bf37-42fe-8e66-69718409b295",
   "metadata": {},
   "source": [
    "## Merge the Data"
   ]
  },
  {
   "cell_type": "code",
   "execution_count": 7,
   "id": "419ef624",
   "metadata": {},
   "outputs": [
    {
     "data": {
      "text/html": [
       "<div>\n",
       "<style scoped>\n",
       "    .dataframe tbody tr th:only-of-type {\n",
       "        vertical-align: middle;\n",
       "    }\n",
       "\n",
       "    .dataframe tbody tr th {\n",
       "        vertical-align: top;\n",
       "    }\n",
       "\n",
       "    .dataframe thead th {\n",
       "        text-align: right;\n",
       "    }\n",
       "</style>\n",
       "<table border=\"1\" class=\"dataframe\">\n",
       "  <thead>\n",
       "    <tr style=\"text-align: right;\">\n",
       "      <th></th>\n",
       "      <th>ID</th>\n",
       "      <th>LastName</th>\n",
       "      <th>FirstName</th>\n",
       "      <th>Woman</th>\n",
       "      <th>Age</th>\n",
       "      <th>Salary</th>\n",
       "      <th>Education</th>\n",
       "      <th>City</th>\n",
       "      <th>SeniorList</th>\n",
       "      <th>NbActivities</th>\n",
       "      <th>...</th>\n",
       "      <th>Frequency</th>\n",
       "      <th>Seniority</th>\n",
       "      <th>TotalGift</th>\n",
       "      <th>MinGift</th>\n",
       "      <th>MaxGift</th>\n",
       "      <th>GaveLastYear</th>\n",
       "      <th>AmtLastYear</th>\n",
       "      <th>Contact</th>\n",
       "      <th>GaveThisYear</th>\n",
       "      <th>AmtThisYear</th>\n",
       "    </tr>\n",
       "  </thead>\n",
       "  <tbody>\n",
       "    <tr>\n",
       "      <th>307031</th>\n",
       "      <td>2307032.0</td>\n",
       "      <td>PIERCE</td>\n",
       "      <td>SHEREE</td>\n",
       "      <td>1.0</td>\n",
       "      <td>19.0</td>\n",
       "      <td>20800.0</td>\n",
       "      <td>High School</td>\n",
       "      <td>City</td>\n",
       "      <td>1.0</td>\n",
       "      <td>0.0</td>\n",
       "      <td>...</td>\n",
       "      <td>NaN</td>\n",
       "      <td>NaN</td>\n",
       "      <td>NaN</td>\n",
       "      <td>NaN</td>\n",
       "      <td>NaN</td>\n",
       "      <td>0.0</td>\n",
       "      <td>0.0</td>\n",
       "      <td>0.0</td>\n",
       "      <td>0.0</td>\n",
       "      <td>0.0</td>\n",
       "    </tr>\n",
       "    <tr>\n",
       "      <th>531759</th>\n",
       "      <td>2531760.0</td>\n",
       "      <td>EGLI</td>\n",
       "      <td>TOSHA</td>\n",
       "      <td>1.0</td>\n",
       "      <td>30.0</td>\n",
       "      <td>23300.0</td>\n",
       "      <td>University / College</td>\n",
       "      <td>Suburban</td>\n",
       "      <td>9.0</td>\n",
       "      <td>0.0</td>\n",
       "      <td>...</td>\n",
       "      <td>NaN</td>\n",
       "      <td>NaN</td>\n",
       "      <td>NaN</td>\n",
       "      <td>NaN</td>\n",
       "      <td>NaN</td>\n",
       "      <td>0.0</td>\n",
       "      <td>0.0</td>\n",
       "      <td>0.0</td>\n",
       "      <td>0.0</td>\n",
       "      <td>0.0</td>\n",
       "    </tr>\n",
       "  </tbody>\n",
       "</table>\n",
       "<p>2 rows × 22 columns</p>\n",
       "</div>"
      ],
      "text/plain": [
       "               ID LastName FirstName  Woman   Age   Salary  \\\n",
       "307031  2307032.0   PIERCE    SHEREE    1.0  19.0  20800.0   \n",
       "531759  2531760.0     EGLI     TOSHA    1.0  30.0  23300.0   \n",
       "\n",
       "                   Education      City  SeniorList  NbActivities  ...  \\\n",
       "307031           High School      City         1.0           0.0  ...   \n",
       "531759  University / College  Suburban         9.0           0.0  ...   \n",
       "\n",
       "        Frequency  Seniority  TotalGift  MinGift  MaxGift  GaveLastYear  \\\n",
       "307031        NaN        NaN        NaN      NaN      NaN           0.0   \n",
       "531759        NaN        NaN        NaN      NaN      NaN           0.0   \n",
       "\n",
       "        AmtLastYear  Contact  GaveThisYear  AmtThisYear  \n",
       "307031          0.0      0.0           0.0          0.0  \n",
       "531759          0.0      0.0           0.0          0.0  \n",
       "\n",
       "[2 rows x 22 columns]"
      ]
     },
     "execution_count": 7,
     "metadata": {},
     "output_type": "execute_result"
    }
   ],
   "source": [
    "data_merge = pd.merge(data1, data2, on=[\"ID\"],how=\"right\")\n",
    "#data_merge.head()\n",
    "data_merge.sample(2)"
   ]
  },
  {
   "cell_type": "markdown",
   "id": "206e4d61-0bb7-4f80-97d7-4c175c013d44",
   "metadata": {},
   "source": [
    "## Treating Missing Values\n",
    "\n",
    "Please be aware that deleting all missing values can induce a selection bias. \n",
    "Some missing values are very informative. For example, when MinGift is missing, it means that the donor never gave in the past 10 years (leading to but excluding last year). Instead of deleting this information, replacing it by 0 is more appropriate!\n",
    "\n",
    "A good understanding of the business case and the data can help you come up with more appropriate strategies to deal with missing values."
   ]
  },
  {
   "cell_type": "code",
   "execution_count": 8,
   "id": "8251f011-2e56-49e1-8bdc-32a852dd2700",
   "metadata": {},
   "outputs": [
    {
     "data": {
      "text/html": [
       "<div>\n",
       "<style scoped>\n",
       "    .dataframe tbody tr th:only-of-type {\n",
       "        vertical-align: middle;\n",
       "    }\n",
       "\n",
       "    .dataframe tbody tr th {\n",
       "        vertical-align: top;\n",
       "    }\n",
       "\n",
       "    .dataframe thead th {\n",
       "        text-align: right;\n",
       "    }\n",
       "</style>\n",
       "<table border=\"1\" class=\"dataframe\">\n",
       "  <thead>\n",
       "    <tr style=\"text-align: right;\">\n",
       "      <th></th>\n",
       "      <th>ID</th>\n",
       "      <th>LastName</th>\n",
       "      <th>FirstName</th>\n",
       "      <th>Woman</th>\n",
       "      <th>Age</th>\n",
       "      <th>Salary</th>\n",
       "      <th>Education</th>\n",
       "      <th>City</th>\n",
       "      <th>SeniorList</th>\n",
       "      <th>NbActivities</th>\n",
       "      <th>...</th>\n",
       "      <th>Frequency</th>\n",
       "      <th>Seniority</th>\n",
       "      <th>TotalGift</th>\n",
       "      <th>MinGift</th>\n",
       "      <th>MaxGift</th>\n",
       "      <th>GaveLastYear</th>\n",
       "      <th>AmtLastYear</th>\n",
       "      <th>Contact</th>\n",
       "      <th>GaveThisYear</th>\n",
       "      <th>AmtThisYear</th>\n",
       "    </tr>\n",
       "  </thead>\n",
       "  <tbody>\n",
       "    <tr>\n",
       "      <th>490948</th>\n",
       "      <td>2490949.0</td>\n",
       "      <td>STYVES</td>\n",
       "      <td>CHRISTINE</td>\n",
       "      <td>1.0</td>\n",
       "      <td>48.0</td>\n",
       "      <td>26700.0</td>\n",
       "      <td>High School</td>\n",
       "      <td>City</td>\n",
       "      <td>8.0</td>\n",
       "      <td>2.0</td>\n",
       "      <td>...</td>\n",
       "      <td>2.0</td>\n",
       "      <td>8.0</td>\n",
       "      <td>50.0</td>\n",
       "      <td>20.0</td>\n",
       "      <td>30.0</td>\n",
       "      <td>0.0</td>\n",
       "      <td>0.0</td>\n",
       "      <td>0.0</td>\n",
       "      <td>0.0</td>\n",
       "      <td>0.0</td>\n",
       "    </tr>\n",
       "    <tr>\n",
       "      <th>28698</th>\n",
       "      <td>2028699.0</td>\n",
       "      <td>COLLINS</td>\n",
       "      <td>HELEN</td>\n",
       "      <td>1.0</td>\n",
       "      <td>32.0</td>\n",
       "      <td>20000.0</td>\n",
       "      <td>University / College</td>\n",
       "      <td>City</td>\n",
       "      <td>4.0</td>\n",
       "      <td>0.0</td>\n",
       "      <td>...</td>\n",
       "      <td>NaN</td>\n",
       "      <td>NaN</td>\n",
       "      <td>NaN</td>\n",
       "      <td>0.0</td>\n",
       "      <td>NaN</td>\n",
       "      <td>0.0</td>\n",
       "      <td>0.0</td>\n",
       "      <td>0.0</td>\n",
       "      <td>0.0</td>\n",
       "      <td>0.0</td>\n",
       "    </tr>\n",
       "    <tr>\n",
       "      <th>899203</th>\n",
       "      <td>2899204.0</td>\n",
       "      <td>MAYNARD</td>\n",
       "      <td>THERESA</td>\n",
       "      <td>1.0</td>\n",
       "      <td>30.0</td>\n",
       "      <td>47900.0</td>\n",
       "      <td>High School</td>\n",
       "      <td>Downtown</td>\n",
       "      <td>4.0</td>\n",
       "      <td>0.0</td>\n",
       "      <td>...</td>\n",
       "      <td>NaN</td>\n",
       "      <td>NaN</td>\n",
       "      <td>NaN</td>\n",
       "      <td>0.0</td>\n",
       "      <td>NaN</td>\n",
       "      <td>0.0</td>\n",
       "      <td>0.0</td>\n",
       "      <td>0.0</td>\n",
       "      <td>0.0</td>\n",
       "      <td>0.0</td>\n",
       "    </tr>\n",
       "  </tbody>\n",
       "</table>\n",
       "<p>3 rows × 22 columns</p>\n",
       "</div>"
      ],
      "text/plain": [
       "               ID LastName  FirstName  Woman   Age   Salary  \\\n",
       "490948  2490949.0   STYVES  CHRISTINE    1.0  48.0  26700.0   \n",
       "28698   2028699.0  COLLINS      HELEN    1.0  32.0  20000.0   \n",
       "899203  2899204.0  MAYNARD    THERESA    1.0  30.0  47900.0   \n",
       "\n",
       "                   Education      City  SeniorList  NbActivities  ...  \\\n",
       "490948           High School      City         8.0           2.0  ...   \n",
       "28698   University / College      City         4.0           0.0  ...   \n",
       "899203           High School  Downtown         4.0           0.0  ...   \n",
       "\n",
       "        Frequency  Seniority  TotalGift  MinGift  MaxGift  GaveLastYear  \\\n",
       "490948        2.0        8.0       50.0     20.0     30.0           0.0   \n",
       "28698         NaN        NaN        NaN      0.0      NaN           0.0   \n",
       "899203        NaN        NaN        NaN      0.0      NaN           0.0   \n",
       "\n",
       "        AmtLastYear  Contact  GaveThisYear  AmtThisYear  \n",
       "490948          0.0      0.0           0.0          0.0  \n",
       "28698           0.0      0.0           0.0          0.0  \n",
       "899203          0.0      0.0           0.0          0.0  \n",
       "\n",
       "[3 rows x 22 columns]"
      ]
     },
     "execution_count": 8,
     "metadata": {},
     "output_type": "execute_result"
    }
   ],
   "source": [
    "# In this case, we are repalcing MinGift by 0.\n",
    "# You can do the same for what you think is raisonable for dealing with the other variables.\n",
    "\n",
    "data_merge[['MinGift']] = data_merge[['MinGift']].fillna(value=0)  \n",
    "\n",
    "data_merge.sample(3)"
   ]
  },
  {
   "cell_type": "markdown",
   "id": "780fc71d-171e-4bb7-9e0c-89572856cc5f",
   "metadata": {},
   "source": [
    "## Data Partition"
   ]
  },
  {
   "cell_type": "code",
   "execution_count": 9,
   "id": "859f053e-5121-4edd-9d99-bed485d7d0cb",
   "metadata": {},
   "outputs": [
    {
     "data": {
      "text/html": [
       "<div>\n",
       "<style scoped>\n",
       "    .dataframe tbody tr th:only-of-type {\n",
       "        vertical-align: middle;\n",
       "    }\n",
       "\n",
       "    .dataframe tbody tr th {\n",
       "        vertical-align: top;\n",
       "    }\n",
       "\n",
       "    .dataframe thead th {\n",
       "        text-align: right;\n",
       "    }\n",
       "</style>\n",
       "<table border=\"1\" class=\"dataframe\">\n",
       "  <thead>\n",
       "    <tr style=\"text-align: right;\">\n",
       "      <th></th>\n",
       "      <th>ID</th>\n",
       "      <th>LastName</th>\n",
       "      <th>FirstName</th>\n",
       "      <th>Woman</th>\n",
       "      <th>Age</th>\n",
       "      <th>Salary</th>\n",
       "      <th>Education</th>\n",
       "      <th>City</th>\n",
       "      <th>SeniorList</th>\n",
       "      <th>NbActivities</th>\n",
       "      <th>...</th>\n",
       "      <th>Frequency</th>\n",
       "      <th>Seniority</th>\n",
       "      <th>TotalGift</th>\n",
       "      <th>MinGift</th>\n",
       "      <th>MaxGift</th>\n",
       "      <th>GaveLastYear</th>\n",
       "      <th>AmtLastYear</th>\n",
       "      <th>Contact</th>\n",
       "      <th>GaveThisYear</th>\n",
       "      <th>AmtThisYear</th>\n",
       "    </tr>\n",
       "  </thead>\n",
       "  <tbody>\n",
       "    <tr>\n",
       "      <th>894156</th>\n",
       "      <td>2894157.0</td>\n",
       "      <td>PEDRAZA</td>\n",
       "      <td>SHIRLEY</td>\n",
       "      <td>1.0</td>\n",
       "      <td>56.0</td>\n",
       "      <td>242500.0</td>\n",
       "      <td>University / College</td>\n",
       "      <td>Rural</td>\n",
       "      <td>0.0</td>\n",
       "      <td>0.0</td>\n",
       "      <td>...</td>\n",
       "      <td>NaN</td>\n",
       "      <td>NaN</td>\n",
       "      <td>NaN</td>\n",
       "      <td>0.0</td>\n",
       "      <td>NaN</td>\n",
       "      <td>0.0</td>\n",
       "      <td>0.0</td>\n",
       "      <td>0.0</td>\n",
       "      <td>0.0</td>\n",
       "      <td>0.0</td>\n",
       "    </tr>\n",
       "    <tr>\n",
       "      <th>586275</th>\n",
       "      <td>2586276.0</td>\n",
       "      <td>REN</td>\n",
       "      <td>TORI</td>\n",
       "      <td>1.0</td>\n",
       "      <td>43.0</td>\n",
       "      <td>20100.0</td>\n",
       "      <td>Elementary</td>\n",
       "      <td>City</td>\n",
       "      <td>3.0</td>\n",
       "      <td>0.0</td>\n",
       "      <td>...</td>\n",
       "      <td>NaN</td>\n",
       "      <td>NaN</td>\n",
       "      <td>NaN</td>\n",
       "      <td>0.0</td>\n",
       "      <td>NaN</td>\n",
       "      <td>0.0</td>\n",
       "      <td>0.0</td>\n",
       "      <td>0.0</td>\n",
       "      <td>0.0</td>\n",
       "      <td>0.0</td>\n",
       "    </tr>\n",
       "  </tbody>\n",
       "</table>\n",
       "<p>2 rows × 22 columns</p>\n",
       "</div>"
      ],
      "text/plain": [
       "               ID LastName FirstName  Woman   Age    Salary  \\\n",
       "894156  2894157.0  PEDRAZA   SHIRLEY    1.0  56.0  242500.0   \n",
       "586275  2586276.0      REN      TORI    1.0  43.0   20100.0   \n",
       "\n",
       "                   Education   City  SeniorList  NbActivities  ...  Frequency  \\\n",
       "894156  University / College  Rural         0.0           0.0  ...        NaN   \n",
       "586275            Elementary   City         3.0           0.0  ...        NaN   \n",
       "\n",
       "        Seniority  TotalGift  MinGift  MaxGift  GaveLastYear  AmtLastYear  \\\n",
       "894156        NaN        NaN      0.0      NaN           0.0          0.0   \n",
       "586275        NaN        NaN      0.0      NaN           0.0          0.0   \n",
       "\n",
       "        Contact  GaveThisYear  AmtThisYear  \n",
       "894156      0.0           0.0          0.0  \n",
       "586275      0.0           0.0          0.0  \n",
       "\n",
       "[2 rows x 22 columns]"
      ]
     },
     "execution_count": 9,
     "metadata": {},
     "output_type": "execute_result"
    }
   ],
   "source": [
    "# The code below is an illustration on how to sample data on train and validation samples.\n",
    "# You could use another library or a built-in function to perform sampling.\n",
    "\n",
    "from sklearn.model_selection import train_test_split\n",
    "train, validation = train_test_split(data_merge, test_size=0.4, random_state=12345) \n",
    "\n",
    "#train.head()\n",
    "train.sample(2)"
   ]
  },
  {
   "cell_type": "markdown",
   "id": "edcdac44-c84b-4fe5-881f-05a2ecb98e6a",
   "metadata": {},
   "source": [
    "# Prebuilt Models\n",
    "\n",
    "The sk-learn library offers more adavanced models. \n",
    "\n",
    "sk-learn library: https://scikit-learn.org/stable/index.html  \n",
    "\n",
    "## Logistic Regression Model"
   ]
  },
  {
   "cell_type": "code",
   "execution_count": 10,
   "id": "9f33ea4c",
   "metadata": {},
   "outputs": [],
   "source": [
    "from sklearn.linear_model import LogisticRegression\n",
    "\n",
    "#comment: it's numpy array ==> categorical variables\n",
    "X_train = train[['Age', 'Salary','MinGift', 'GaveLastYear','Contact', 'Woman', 'NbActivities']] \n",
    "Y_train = train['GaveThisYear']\n",
    "X_valid = validation[['Age', 'Salary','MinGift', 'GaveLastYear','Contact', 'Woman', 'NbActivities']] \n",
    "Y_valid = validation['GaveThisYear']\n",
    "\n",
    "regr = LogisticRegression()\n",
    "regr.fit(X_train,Y_train)\n",
    "regr_predict=regr.predict(X_valid)"
   ]
  },
  {
   "cell_type": "code",
   "execution_count": 11,
   "id": "a6ff2946",
   "metadata": {},
   "outputs": [
    {
     "name": "stdout",
     "output_type": "stream",
     "text": [
      "[[340196     17]\n",
      " [ 59783      4]]\n"
     ]
    }
   ],
   "source": [
    "#you can change the criteria\n",
    "\n",
    "import numpy as np\n",
    "from sklearn.metrics import confusion_matrix\n",
    "from sklearn.metrics import confusion_matrix\n",
    "\n",
    "confusion_matrix = confusion_matrix(Y_valid, regr_predict)\n",
    "print(confusion_matrix)"
   ]
  },
  {
   "cell_type": "code",
   "execution_count": 12,
   "id": "21803ab0-c771-4a27-b0ab-81a2a304f719",
   "metadata": {},
   "outputs": [
    {
     "name": "stdout",
     "output_type": "stream",
     "text": [
      "              precision    recall  f1-score   support\n",
      "\n",
      "         0.0       0.85      1.00      0.92    340213\n",
      "         1.0       0.19      0.00      0.00     59787\n",
      "\n",
      "    accuracy                           0.85    400000\n",
      "   macro avg       0.52      0.50      0.46    400000\n",
      "weighted avg       0.75      0.85      0.78    400000\n",
      "\n"
     ]
    }
   ],
   "source": [
    "from sklearn.metrics import classification_report\n",
    "print(classification_report(Y_valid, regr_predict))"
   ]
  },
  {
   "cell_type": "code",
   "execution_count": 13,
   "id": "d27a7bb1-e651-474a-ae3e-4f09540815e6",
   "metadata": {},
   "outputs": [
    {
     "data": {
      "image/png": "[encoded data removed]",
      "text/plain": [
       "<Figure size 432x288 with 1 Axes>"
      ]
     },
     "metadata": {
      "needs_background": "light"
     },
     "output_type": "display_data"
    }
   ],
   "source": [
    "from sklearn.metrics import roc_auc_score\n",
    "from sklearn.metrics import roc_curve\n",
    "import matplotlib.pyplot as plt \n",
    "plt.rc(\"font\", size=14)\n",
    "\n",
    "logit_roc_auc = roc_auc_score(Y_valid, regr.predict(X_valid))\n",
    "fpr, tpr, thresholds = roc_curve(Y_valid, regr.predict_proba(X_valid)[:,1])\n",
    "plt.figure()\n",
    "plt.plot(fpr, tpr, label='Logistic Regression (area = %0.2f)' % logit_roc_auc)\n",
    "plt.plot([0, 1], [0, 1],'r--')\n",
    "plt.xlim([0.0, 1.0])\n",
    "plt.ylim([0.0, 1.05])\n",
    "plt.xlabel('False Positive Rate')\n",
    "plt.ylabel('True Positive Rate')\n",
    "plt.title('Receiver operating characteristic')\n",
    "plt.legend(loc=\"lower right\")\n",
    "plt.savefig('Log_ROC')\n",
    "plt.show()"
   ]
  },
  {
   "cell_type": "markdown",
   "id": "a6f78891",
   "metadata": {},
   "source": [
    "## Decision Tree Model"
   ]
  },
  {
   "cell_type": "code",
   "execution_count": 14,
   "id": "0560fcdd",
   "metadata": {},
   "outputs": [
    {
     "name": "stdout",
     "output_type": "stream",
     "text": [
      "[0.11072745 0.1603026  0.40548953 ... 0.07729761 0.63065804 0.10409085]\n"
     ]
    }
   ],
   "source": [
    "from sklearn.tree import DecisionTreeClassifier\n",
    "\n",
    "X_train = train[['Age','Salary','MinGift','GaveLastYear','Contact','Woman', 'NbActivities']] \n",
    "Y_train = train['GaveThisYear']\n",
    "X_valid = validation[['Age','Salary','MinGift','GaveLastYear','Contact','Woman', 'NbActivities']] \n",
    "Y_valid = validation['GaveThisYear']\n",
    "\n",
    "DT_model = DecisionTreeClassifier(max_depth=5,criterion=\"entropy\").fit(X_train,Y_train)\n",
    "DT_predict_proba = DT_model.predict_proba(X_valid) #Predictions on Testing data\n",
    "DT_predict = DT_model.predict(X_valid) #Predictions on Testing data\n",
    "# Probabilities for each class\n",
    "DT_probs = DT_model.predict_proba(X_valid)[:, 1]\n",
    "print(DT_probs)"
   ]
  },
  {
   "cell_type": "code",
   "execution_count": 15,
   "id": "a634a11d",
   "metadata": {},
   "outputs": [
    {
     "name": "stdout",
     "output_type": "stream",
     "text": [
      "[[335707   4506]\n",
      " [ 52949   6838]]\n"
     ]
    }
   ],
   "source": [
    "#you can change the criteria\n",
    "import numpy as np\n",
    "from sklearn.metrics import confusion_matrix\n",
    "from sklearn.metrics import confusion_matrix\n",
    "\n",
    "\n",
    "confusion_matrix = confusion_matrix(Y_valid, DT_predict)\n",
    "print(confusion_matrix)\n"
   ]
  },
  {
   "cell_type": "code",
   "execution_count": 16,
   "id": "44067449-2008-4519-aaf9-af32945e9fae",
   "metadata": {},
   "outputs": [
    {
     "name": "stdout",
     "output_type": "stream",
     "text": [
      "              precision    recall  f1-score   support\n",
      "\n",
      "         0.0       0.86      0.99      0.92    340213\n",
      "         1.0       0.60      0.11      0.19     59787\n",
      "\n",
      "    accuracy                           0.86    400000\n",
      "   macro avg       0.73      0.55      0.56    400000\n",
      "weighted avg       0.82      0.86      0.81    400000\n",
      "\n"
     ]
    }
   ],
   "source": [
    "from sklearn.metrics import classification_report\n",
    "print(classification_report(Y_valid, DT_predict))"
   ]
  },
  {
   "cell_type": "code",
   "execution_count": 17,
   "id": "51155944-104f-44c9-baf6-29bcb72446a9",
   "metadata": {},
   "outputs": [
    {
     "data": {
      "image/png": "[encoded data removed]",
      "text/plain": [
       "<Figure size 432x288 with 1 Axes>"
      ]
     },
     "metadata": {
      "needs_background": "light"
     },
     "output_type": "display_data"
    }
   ],
   "source": [
    "from sklearn.metrics import roc_auc_score\n",
    "from sklearn.metrics import roc_curve\n",
    "import matplotlib.pyplot as plt \n",
    "plt.rc(\"font\", size=14)\n",
    "\n",
    "DT_roc_auc = roc_auc_score(Y_valid, DT_model.predict(X_valid))\n",
    "fpr, tpr, thresholds = roc_curve(Y_valid, DT_model.predict_proba(X_valid)[:,1])\n",
    "plt.figure()\n",
    "plt.plot(fpr, tpr, label='Decision tree (area = %0.2f)' % DT_roc_auc)\n",
    "plt.plot([0, 1], [0, 1],'r--')\n",
    "plt.xlim([0.0, 1.0])\n",
    "plt.ylim([0.0, 1.05])\n",
    "plt.xlabel('False Positive Rate')\n",
    "plt.ylabel('True Positive Rate')\n",
    "plt.title('Receiver operating characteristic')\n",
    "plt.legend(loc=\"lower right\")\n",
    "plt.savefig('DT_ROC')\n",
    "plt.show()"
   ]
  },
  {
   "cell_type": "markdown",
   "id": "195cb6d4",
   "metadata": {},
   "source": [
    "### *Other models may also be helpful for this game*\n",
    "\n",
    "Reference: https://scikit-learn.org/stable/supervised_learning.html\n",
    "    "
   ]
  },
  {
   "cell_type": "markdown",
   "id": "95983c35",
   "metadata": {},
   "source": [
    "## Scoring New Data\n",
    "\n",
    "### Prepare data for scoring"
   ]
  },
  {
   "cell_type": "code",
   "execution_count": 18,
   "id": "d1639b73",
   "metadata": {},
   "outputs": [],
   "source": [
    "data3 = sas_session.sasdata2dataframe(\n",
    "table='score',\n",
    "libref='cortex'\n",
    ")\n",
    "data4 = sas_session.sasdata2dataframe(\n",
    "table='score_rd2_contact',\n",
    "libref='cortex'\n",
    ")\n",
    "data5 = sas_session.sasdata2dataframe(\n",
    "table='SCORE_RD2_NOCONTACT',\n",
    "libref='cortex'\n",
    ")"
   ]
  },
  {
   "cell_type": "markdown",
   "id": "6aaee9cc-8511-41a8-b0ab-a882d405d88a",
   "metadata": {},
   "source": [
    " ### Score new data based on your champion model\n",
    " \n",
    " Pick you champion model from previous steps and use it to predict next year donations. \n",
    " \n",
    " In this case, the Decision Tree model performed better than the Logistic Regression model based on the AUC criterion."
   ]
  },
  {
   "cell_type": "markdown",
   "id": "685c9354-243e-434e-80d6-fcf57297e4b9",
   "metadata": {},
   "source": [
    "### Predict 'probability of giving' for members who were contacted"
   ]
  },
  {
   "cell_type": "code",
   "execution_count": 19,
   "id": "18b8a688-14e1-4877-805b-3b967a34b53b",
   "metadata": {},
   "outputs": [
    {
     "data": {
      "text/html": [
       "<div>\n",
       "<style scoped>\n",
       "    .dataframe tbody tr th:only-of-type {\n",
       "        vertical-align: middle;\n",
       "    }\n",
       "\n",
       "    .dataframe tbody tr th {\n",
       "        vertical-align: top;\n",
       "    }\n",
       "\n",
       "    .dataframe thead th {\n",
       "        text-align: right;\n",
       "    }\n",
       "</style>\n",
       "<table border=\"1\" class=\"dataframe\">\n",
       "  <thead>\n",
       "    <tr style=\"text-align: right;\">\n",
       "      <th></th>\n",
       "      <th>ID</th>\n",
       "      <th>ProbContact</th>\n",
       "    </tr>\n",
       "  </thead>\n",
       "  <tbody>\n",
       "    <tr>\n",
       "      <th>0</th>\n",
       "      <td>2000001.0</td>\n",
       "      <td>0.289052</td>\n",
       "    </tr>\n",
       "    <tr>\n",
       "      <th>1</th>\n",
       "      <td>2000002.0</td>\n",
       "      <td>0.630658</td>\n",
       "    </tr>\n",
       "    <tr>\n",
       "      <th>2</th>\n",
       "      <td>2000003.0</td>\n",
       "      <td>0.630658</td>\n",
       "    </tr>\n",
       "    <tr>\n",
       "      <th>3</th>\n",
       "      <td>2000004.0</td>\n",
       "      <td>0.378129</td>\n",
       "    </tr>\n",
       "    <tr>\n",
       "      <th>4</th>\n",
       "      <td>2000005.0</td>\n",
       "      <td>0.527542</td>\n",
       "    </tr>\n",
       "  </tbody>\n",
       "</table>\n",
       "</div>"
      ],
      "text/plain": [
       "          ID  ProbContact\n",
       "0  2000001.0     0.289052\n",
       "1  2000002.0     0.630658\n",
       "2  2000003.0     0.630658\n",
       "3  2000004.0     0.378129\n",
       "4  2000005.0     0.527542"
      ]
     },
     "execution_count": 19,
     "metadata": {},
     "output_type": "execute_result"
    }
   ],
   "source": [
    "scoring_data_contact = pd.merge(data3, data4, on=[\"ID\"],how=\"right\")\n",
    "\n",
    "# Preform the same strategy for handling missing values for the score dataset.\n",
    "# In this case, we will only replace missing values of the MinGift variable.\n",
    "\n",
    "scoring_data_contact[['MinGift']] = scoring_data_contact[['MinGift']].fillna(value=0) \n",
    "\n",
    "#scoring_data_contact.head()\n",
    "\n",
    "X = scoring_data_contact[['Age','Salary','MinGift','GaveLastYear','Contact','Woman', 'NbActivities']] \n",
    "DT_predict_contact=DT_model.predict_proba(X)[:,1]\n",
    "scoring_data_contact['Prediction_prob'] = DT_predict_contact\n",
    "\n",
    "scoring_data_contact= scoring_data_contact[['ID','Prediction_prob']]\n",
    "scoring_data_contact = scoring_data_contact.rename({'Prediction_prob': 'ProbContact'}, axis=1) \n",
    "scoring_data_contact.head()"
   ]
  },
  {
   "cell_type": "markdown",
   "id": "9606447c-5c1e-4028-b6ea-44f52897524d",
   "metadata": {},
   "source": [
    "### Predict 'probability of giving' for members who were not contacted"
   ]
  },
  {
   "cell_type": "code",
   "execution_count": 20,
   "id": "de392f5e",
   "metadata": {},
   "outputs": [
    {
     "data": {
      "text/html": [
       "<div>\n",
       "<style scoped>\n",
       "    .dataframe tbody tr th:only-of-type {\n",
       "        vertical-align: middle;\n",
       "    }\n",
       "\n",
       "    .dataframe tbody tr th {\n",
       "        vertical-align: top;\n",
       "    }\n",
       "\n",
       "    .dataframe thead th {\n",
       "        text-align: right;\n",
       "    }\n",
       "</style>\n",
       "<table border=\"1\" class=\"dataframe\">\n",
       "  <thead>\n",
       "    <tr style=\"text-align: right;\">\n",
       "      <th></th>\n",
       "      <th>ID</th>\n",
       "      <th>ProbNoContact</th>\n",
       "    </tr>\n",
       "  </thead>\n",
       "  <tbody>\n",
       "    <tr>\n",
       "      <th>0</th>\n",
       "      <td>2000001.0</td>\n",
       "      <td>0.110727</td>\n",
       "    </tr>\n",
       "    <tr>\n",
       "      <th>1</th>\n",
       "      <td>2000002.0</td>\n",
       "      <td>0.104091</td>\n",
       "    </tr>\n",
       "    <tr>\n",
       "      <th>2</th>\n",
       "      <td>2000003.0</td>\n",
       "      <td>0.077298</td>\n",
       "    </tr>\n",
       "    <tr>\n",
       "      <th>3</th>\n",
       "      <td>2000004.0</td>\n",
       "      <td>0.077298</td>\n",
       "    </tr>\n",
       "    <tr>\n",
       "      <th>4</th>\n",
       "      <td>2000005.0</td>\n",
       "      <td>0.077298</td>\n",
       "    </tr>\n",
       "  </tbody>\n",
       "</table>\n",
       "</div>"
      ],
      "text/plain": [
       "          ID  ProbNoContact\n",
       "0  2000001.0       0.110727\n",
       "1  2000002.0       0.104091\n",
       "2  2000003.0       0.077298\n",
       "3  2000004.0       0.077298\n",
       "4  2000005.0       0.077298"
      ]
     },
     "execution_count": 20,
     "metadata": {},
     "output_type": "execute_result"
    }
   ],
   "source": [
    "scoring_data_nocontact = pd.merge(data3, data5, on=[\"ID\"],how=\"right\")\n",
    "\n",
    "# Preform the same strategy for handling missing values for the score dataset.\n",
    "# In this case, we will only replace missing values of the MinGift variable.\n",
    "\n",
    "scoring_data_nocontact[['MinGift']] = scoring_data_nocontact[['MinGift']].fillna(value=0) \n",
    "\n",
    "#scoring_data_contact.head()\n",
    "\n",
    "X = scoring_data_nocontact[['Age','Salary','MinGift','GaveLastYear','Contact','Woman', 'NbActivities']] \n",
    "DT_predict_nocontact=DT_model.predict_proba(X)[:,1]\n",
    "scoring_data_nocontact['Prediction_prob'] = DT_predict_nocontact\n",
    "\n",
    "scoring_data_nocontact= scoring_data_nocontact[['ID','Prediction_prob']]\n",
    "scoring_data_nocontact = scoring_data_nocontact.rename({'Prediction_prob': 'ProbNoContact'}, axis=1) \n",
    "scoring_data_nocontact.head()"
   ]
  },
  {
   "cell_type": "code",
   "execution_count": 21,
   "id": "5036d69c",
   "metadata": {},
   "outputs": [
    {
     "data": {
      "text/html": [
       "<div>\n",
       "<style scoped>\n",
       "    .dataframe tbody tr th:only-of-type {\n",
       "        vertical-align: middle;\n",
       "    }\n",
       "\n",
       "    .dataframe tbody tr th {\n",
       "        vertical-align: top;\n",
       "    }\n",
       "\n",
       "    .dataframe thead th {\n",
       "        text-align: right;\n",
       "    }\n",
       "</style>\n",
       "<table border=\"1\" class=\"dataframe\">\n",
       "  <thead>\n",
       "    <tr style=\"text-align: right;\">\n",
       "      <th></th>\n",
       "      <th>ID</th>\n",
       "      <th>ProbContact</th>\n",
       "      <th>ProbNoContact</th>\n",
       "    </tr>\n",
       "  </thead>\n",
       "  <tbody>\n",
       "    <tr>\n",
       "      <th>578692</th>\n",
       "      <td>2578693.0</td>\n",
       "      <td>0.332331</td>\n",
       "      <td>0.077298</td>\n",
       "    </tr>\n",
       "    <tr>\n",
       "      <th>637243</th>\n",
       "      <td>2637244.0</td>\n",
       "      <td>0.284710</td>\n",
       "      <td>0.167228</td>\n",
       "    </tr>\n",
       "    <tr>\n",
       "      <th>405072</th>\n",
       "      <td>2405073.0</td>\n",
       "      <td>0.630658</td>\n",
       "      <td>0.077298</td>\n",
       "    </tr>\n",
       "    <tr>\n",
       "      <th>860445</th>\n",
       "      <td>2860446.0</td>\n",
       "      <td>0.367328</td>\n",
       "      <td>0.110727</td>\n",
       "    </tr>\n",
       "    <tr>\n",
       "      <th>856154</th>\n",
       "      <td>2856155.0</td>\n",
       "      <td>0.154572</td>\n",
       "      <td>0.077298</td>\n",
       "    </tr>\n",
       "    <tr>\n",
       "      <th>585005</th>\n",
       "      <td>2585006.0</td>\n",
       "      <td>0.378129</td>\n",
       "      <td>0.226495</td>\n",
       "    </tr>\n",
       "    <tr>\n",
       "      <th>130090</th>\n",
       "      <td>2130091.0</td>\n",
       "      <td>0.367328</td>\n",
       "      <td>0.142009</td>\n",
       "    </tr>\n",
       "    <tr>\n",
       "      <th>206771</th>\n",
       "      <td>2206772.0</td>\n",
       "      <td>0.154572</td>\n",
       "      <td>0.077298</td>\n",
       "    </tr>\n",
       "    <tr>\n",
       "      <th>148786</th>\n",
       "      <td>2148787.0</td>\n",
       "      <td>0.283237</td>\n",
       "      <td>0.077298</td>\n",
       "    </tr>\n",
       "    <tr>\n",
       "      <th>837694</th>\n",
       "      <td>2837695.0</td>\n",
       "      <td>0.154572</td>\n",
       "      <td>0.077298</td>\n",
       "    </tr>\n",
       "  </tbody>\n",
       "</table>\n",
       "</div>"
      ],
      "text/plain": [
       "               ID  ProbContact  ProbNoContact\n",
       "578692  2578693.0     0.332331       0.077298\n",
       "637243  2637244.0     0.284710       0.167228\n",
       "405072  2405073.0     0.630658       0.077298\n",
       "860445  2860446.0     0.367328       0.110727\n",
       "856154  2856155.0     0.154572       0.077298\n",
       "585005  2585006.0     0.378129       0.226495\n",
       "130090  2130091.0     0.367328       0.142009\n",
       "206771  2206772.0     0.154572       0.077298\n",
       "148786  2148787.0     0.283237       0.077298\n",
       "837694  2837695.0     0.154572       0.077298"
      ]
     },
     "execution_count": 21,
     "metadata": {},
     "output_type": "execute_result"
    }
   ],
   "source": [
    "result = pd.merge(scoring_data_contact, scoring_data_nocontact, on=[\"ID\"],how=\"right\")\n",
    "result.sort_values(by=['ID'], inplace=True)\n",
    "result.sample(10)"
   ]
  },
  {
   "cell_type": "markdown",
   "id": "f09bf90d",
   "metadata": {},
   "source": [
    "## Exporting Results to a CSV File"
   ]
  },
  {
   "cell_type": "code",
   "execution_count": 22,
   "id": "606bf0a9",
   "metadata": {},
   "outputs": [],
   "source": [
    "result.to_csv('Round2_Output_prob.csv', index=False)"
   ]
  }
 ],
 "metadata": {
  "kernelspec": {
   "display_name": "Python 3",
   "language": "python",
   "name": "python3"
  },
  "language_info": {
   "codemirror_mode": {
    "name": "ipython",
    "version": 3
   },
   "file_extension": ".py",
   "mimetype": "text/x-python",
   "name": "python",
   "nbconvert_exporter": "python",
   "pygments_lexer": "ipython3",
   "version": "3.8.8"
  }
 },
 "nbformat": 4,
 "nbformat_minor": 5
}
