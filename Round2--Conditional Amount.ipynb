{
 "cells": [
  {
   "cell_type": "markdown",
   "id": "62633f7b",
   "metadata": {},
   "source": [
    "![Python_logo](https://www.python.org/static/community_logos/python-logo-master-v3-TM.png)\n",
    "\n",
    "\n",
    " # **Cortex Game: Round2--Conditional Amount**"
   ]
  },
  {
   "cell_type": "markdown",
   "id": "c86ee20b-a48f-40e0-a726-ed8d58c063b6",
   "metadata": {},
   "source": [
    "> Befor playing the game, you need to connect to SASPy first.\n",
    ">\n",
    ">> If it is your first time, please follow the 4 steps mentionned below!"
   ]
  },
  {
   "cell_type": "markdown",
   "id": "002c4525-7d94-40d5-a71c-cad1c13347fa",
   "metadata": {},
   "source": [
    "***\n",
    "## **Connect to SASPy**"
   ]
  },
  {
   "cell_type": "markdown",
   "id": "167ab055-0d92-4d45-987f-33c7272b5a41",
   "metadata": {},
   "source": [
    "**1- Make sure that your Python version is 3.3 or higher**"
   ]
  },
  {
   "cell_type": "code",
   "execution_count": 1,
   "id": "e10e8290-97b0-4166-8576-bdd0e7ccd288",
   "metadata": {},
   "outputs": [
    {
     "name": "stdout",
     "output_type": "stream",
     "text": [
      "3.8.8\n"
     ]
    }
   ],
   "source": [
    "from platform import python_version\n",
    "print (python_version())"
   ]
  },
  {
   "cell_type": "markdown",
   "id": "86bdc74f-a047-4782-9737-41e0274fd1f7",
   "metadata": {},
   "source": [
    "**2- Install SASPy**"
   ]
  },
  {
   "cell_type": "code",
   "execution_count": 2,
   "id": "07fc07de-8c34-4d44-be52-fb4cedf9fd6a",
   "metadata": {},
   "outputs": [
    {
     "name": "stdout",
     "output_type": "stream",
     "text": [
      "Requirement already satisfied: saspy in c:\\users\\11091047.hec\\anaconda3\\lib\\site-packages (3.7.5)\n",
      "Note: you may need to restart the kernel to use updated packages.\n"
     ]
    }
   ],
   "source": [
    "pip install saspy"
   ]
  },
  {
   "cell_type": "markdown",
   "id": "9d37f71f-228c-4aa6-b4a2-3b03200bb46a",
   "metadata": {},
   "source": [
    "**3- Make sure that the configuration file \"sascfg_personal.py\" is correctly created**"
   ]
  },
  {
   "cell_type": "code",
   "execution_count": 3,
   "id": "83761b63-3c3f-4e12-b2de-3f39a203986d",
   "metadata": {
    "tags": []
   },
   "outputs": [
    {
     "name": "stdout",
     "output_type": "stream",
     "text": [
      "C:\\Users\\11091047.HEC\\Anaconda3\\lib\\site-packages\\saspy\\sascfg_personal.py\n"
     ]
    }
   ],
   "source": [
    "import saspy, os\n",
    "print(saspy.__file__.replace('__init__.py', 'sascfg_personal.py'))"
   ]
  },
  {
   "cell_type": "markdown",
   "id": "326e7b08-655d-4b1b-a720-87ba34c63d07",
   "metadata": {},
   "source": [
    "**4- Establish Connection (Need to do this step each time you use SASPy)**"
   ]
  },
  {
   "cell_type": "code",
   "execution_count": 4,
   "id": "f5510764-6263-440e-9b0e-1cac5b1472f8",
   "metadata": {},
   "outputs": [
    {
     "name": "stdout",
     "output_type": "stream",
     "text": [
      "Using SAS Config named: oda\n",
      "SAS Connection established. Subprocess id is 163460\n",
      "\n"
     ]
    },
    {
     "data": {
      "text/plain": [
       "Access Method         = IOM\n",
       "SAS Config name       = oda\n",
       "SAS Config file       = C:\\Users\\11091047.HEC\\Anaconda3\\lib\\site-packages\\saspy\\sascfg_personal.py\n",
       "WORK Path             = /saswork/SAS_work100C0001FA03_odaws01-usw2.oda.sas.com/SAS_work39660001FA03_odaws01-usw2.oda.sas.com/\n",
       "SAS Version           = 9.04.01M6P11072018\n",
       "SASPy Version         = 3.7.5\n",
       "Teach me SAS          = False\n",
       "Batch                 = False\n",
       "Results               = Pandas\n",
       "SAS Session Encoding  = utf-8\n",
       "Python Encoding value = utf-8\n",
       "SAS process Pid value = 129539\n"
      ]
     },
     "execution_count": 4,
     "metadata": {},
     "output_type": "execute_result"
    }
   ],
   "source": [
    "import saspy\n",
    "sas_session = saspy.SASsession()\n",
    "sas_session"
   ]
  },
  {
   "cell_type": "markdown",
   "id": "19574f6f-9486-47f1-99e4-ca8141139cd4",
   "metadata": {},
   "source": [
    "***\n",
    "## Connect to Cortex Data Sets"
   ]
  },
  {
   "cell_type": "markdown",
   "id": "5ffa5b48",
   "metadata": {},
   "source": [
    "Load raw datasets from SAS Studio (Change the folder path to where your \"Cortex Data Sets\" folder is located.)"
   ]
  },
  {
   "cell_type": "markdown",
   "id": "06ef9d60-21e8-4870-8728-80a44cc708e9",
   "metadata": {},
   "source": [
    "<div class=\"alert alert-block alert-danger\"><b>Warning:</b> Please do not forget to change the user ID <strong> u38069370 </strong> with your own user credential!\n",
    "</div>\n"
   ]
  },
  {
   "cell_type": "code",
   "execution_count": 5,
   "id": "d4204cf9",
   "metadata": {},
   "outputs": [
    {
     "data": {
      "text/html": [
       "<!DOCTYPE html PUBLIC \"-//W3C//DTD HTML 4.01//EN\"\n",
       "   \"http://www.w3.org/TR/html4/strict.dtd\">\n",
       "<!--\n",
       "generated by Pygments <https://pygments.org/>\n",
       "Copyright 2006-2021 by the Pygments team.\n",
       "Licensed under the BSD license, see LICENSE for details.\n",
       "-->\n",
       "<html>\n",
       "<head>\n",
       "  <title></title>\n",
       "  <meta http-equiv=\"content-type\" content=\"text/html; charset=None\">\n",
       "  <style type=\"text/css\">\n",
       "/*\n",
       "generated by Pygments <https://pygments.org/>\n",
       "Copyright 2006-2021 by the Pygments team.\n",
       "Licensed under the BSD license, see LICENSE for details.\n",
       "*/\n",
       "pre { line-height: 125%; }\n",
       "td.linenos .normal { color: inherit; background-color: transparent; padding-left: 5px; padding-right: 5px; }\n",
       "span.linenos { color: inherit; background-color: transparent; padding-left: 5px; padding-right: 5px; }\n",
       "td.linenos .special { color: #000000; background-color: #ffffc0; padding-left: 5px; padding-right: 5px; }\n",
       "span.linenos.special { color: #000000; background-color: #ffffc0; padding-left: 5px; padding-right: 5px; }\n",
       "body .hll { background-color: #ffffcc }\n",
       "body { background: #ffffff; }\n",
       "body .c { color: #0000FF } /* Comment */\n",
       "body .k { color: #ff0000; font-weight: bold } /* Keyword */\n",
       "body .n { color: #008000 } /* Name */\n",
       "body .ch { color: #0000FF } /* Comment.Hashbang */\n",
       "body .cm { color: #0000FF } /* Comment.Multiline */\n",
       "body .cp { color: #0000FF } /* Comment.Preproc */\n",
       "body .cpf { color: #0000FF } /* Comment.PreprocFile */\n",
       "body .c1 { color: #0000FF } /* Comment.Single */\n",
       "body .cs { color: #0000FF } /* Comment.Special */\n",
       "body .kc { color: #ff0000; font-weight: bold } /* Keyword.Constant */\n",
       "body .kd { color: #ff0000; font-weight: bold } /* Keyword.Declaration */\n",
       "body .kn { color: #ff0000; font-weight: bold } /* Keyword.Namespace */\n",
       "body .kp { color: #ff0000; font-weight: bold } /* Keyword.Pseudo */\n",
       "body .kr { color: #ff0000; font-weight: bold } /* Keyword.Reserved */\n",
       "body .kt { color: #ff0000; font-weight: bold } /* Keyword.Type */\n",
       "body .s { color: #111111 } /* Literal.String */\n",
       "body .na { color: #008000 } /* Name.Attribute */\n",
       "body .nb { color: #008000 } /* Name.Builtin */\n",
       "body .nc { color: #008000 } /* Name.Class */\n",
       "body .no { color: #008000 } /* Name.Constant */\n",
       "body .nd { color: #008000 } /* Name.Decorator */\n",
       "body .ni { color: #008000 } /* Name.Entity */\n",
       "body .ne { color: #008000 } /* Name.Exception */\n",
       "body .nf { color: #008000 } /* Name.Function */\n",
       "body .nl { color: #008000 } /* Name.Label */\n",
       "body .nn { color: #008000 } /* Name.Namespace */\n",
       "body .nx { color: #008000 } /* Name.Other */\n",
       "body .py { color: #008000 } /* Name.Property */\n",
       "body .nt { color: #008000 } /* Name.Tag */\n",
       "body .nv { color: #008000 } /* Name.Variable */\n",
       "body .sa { color: #111111 } /* Literal.String.Affix */\n",
       "body .sb { color: #111111 } /* Literal.String.Backtick */\n",
       "body .sc { color: #111111 } /* Literal.String.Char */\n",
       "body .dl { color: #111111 } /* Literal.String.Delimiter */\n",
       "body .sd { color: #111111 } /* Literal.String.Doc */\n",
       "body .s2 { color: #111111 } /* Literal.String.Double */\n",
       "body .se { color: #111111 } /* Literal.String.Escape */\n",
       "body .sh { color: #111111 } /* Literal.String.Heredoc */\n",
       "body .si { color: #111111 } /* Literal.String.Interpol */\n",
       "body .sx { color: #111111 } /* Literal.String.Other */\n",
       "body .sr { color: #111111 } /* Literal.String.Regex */\n",
       "body .s1 { color: #111111 } /* Literal.String.Single */\n",
       "body .ss { color: #111111 } /* Literal.String.Symbol */\n",
       "body .bp { color: #008000 } /* Name.Builtin.Pseudo */\n",
       "body .fm { color: #008000 } /* Name.Function.Magic */\n",
       "body .vc { color: #008000 } /* Name.Variable.Class */\n",
       "body .vg { color: #008000 } /* Name.Variable.Global */\n",
       "body .vi { color: #008000 } /* Name.Variable.Instance */\n",
       "body .vm { color: #008000 } /* Name.Variable.Magic */\n",
       "\n",
       "  </style>\n",
       "</head>\n",
       "<body>\n",
       "<h2></h2>\n",
       "\n",
       "<div class=\"highlight\"><pre><span></span><span class=\"s\">7                                                          The SAS System                      Tuesday, 26 October, 2021 01:24:00 PM</span><br><br><span class=\"s\">34         ods listing close;ods html5 (id=saspy_internal) file=_tomods1 options(bitmap_mode=&#39;inline&#39;) device=svg style=HTMLBlue;</span><br><span class=\"s\">34       ! ods graphics on / outputfmt=png;</span><br><span class=\"s\">35         </span><br><span class=\"s\">36         </span><br><span class=\"s\">37         libname cortex &#39;/home/u38069370/my_shared_file_links/u39842936/Cortex Data Sets&#39;;</span><br><span class=\"s\">38         </span><br><span class=\"s\">39         </span><br><span class=\"s\">40         </span><br><span class=\"s\">41         ods html5 (id=saspy_internal) close;ods listing;</span><br><span class=\"s\">42         </span><br><br><span class=\"s\">8                                                          The SAS System                      Tuesday, 26 October, 2021 01:24:00 PM</span><br><br><span class=\"s\">43         </span><br></pre></div>\n",
       "</body>\n",
       "</html>\n"
      ],
      "text/plain": [
       "<IPython.core.display.HTML object>"
      ]
     },
     "execution_count": 5,
     "metadata": {},
     "output_type": "execute_result"
    }
   ],
   "source": [
    "%%SAS sas_session\n",
    "\n",
    "libname cortex '/home/u38069370/my_shared_file_links/u39842936/Cortex Data Sets';"
   ]
  },
  {
   "cell_type": "markdown",
   "id": "bb730ee9",
   "metadata": {},
   "source": [
    "### Transform cloud SAS dataset to Python dataframe (pandas)\n",
    "\n",
    "> For reference: \n",
    "\n",
    "> 1- [Pandas library](https://pandas.pydata.org/docs/user_guide/index.html)\n",
    "\n",
    "> 2- [sklearn.model_selection for data partition](https://scikit-learn.org/stable/modules/generated/sklearn.model_selection.train_test_split.html)"
   ]
  },
  {
   "cell_type": "code",
   "execution_count": 6,
   "id": "f298efcc",
   "metadata": {},
   "outputs": [],
   "source": [
    "import pandas as pd\n",
    "\n",
    "#comment: Transform cloud sas dataset to python datafrmae(pandas) ==> might take some time.\n",
    "\n",
    "data1 = sas_session.sasdata2dataframe(\n",
    "table='hist',\n",
    "libref='cortex'\n",
    ")\n",
    "\n",
    "data2 = sas_session.sasdata2dataframe(\n",
    "table='target_rd2',\n",
    "libref='cortex'\n",
    ")"
   ]
  },
  {
   "cell_type": "markdown",
   "id": "5d6a7d11-cd31-452e-a62b-b74479b86898",
   "metadata": {},
   "source": [
    "## Merge the Data"
   ]
  },
  {
   "cell_type": "code",
   "execution_count": 7,
   "id": "419ef624",
   "metadata": {},
   "outputs": [
    {
     "data": {
      "text/html": [
       "<div>\n",
       "<style scoped>\n",
       "    .dataframe tbody tr th:only-of-type {\n",
       "        vertical-align: middle;\n",
       "    }\n",
       "\n",
       "    .dataframe tbody tr th {\n",
       "        vertical-align: top;\n",
       "    }\n",
       "\n",
       "    .dataframe thead th {\n",
       "        text-align: right;\n",
       "    }\n",
       "</style>\n",
       "<table border=\"1\" class=\"dataframe\">\n",
       "  <thead>\n",
       "    <tr style=\"text-align: right;\">\n",
       "      <th></th>\n",
       "      <th>ID</th>\n",
       "      <th>LastName</th>\n",
       "      <th>FirstName</th>\n",
       "      <th>Woman</th>\n",
       "      <th>Age</th>\n",
       "      <th>Salary</th>\n",
       "      <th>Education</th>\n",
       "      <th>City</th>\n",
       "      <th>SeniorList</th>\n",
       "      <th>NbActivities</th>\n",
       "      <th>...</th>\n",
       "      <th>Frequency</th>\n",
       "      <th>Seniority</th>\n",
       "      <th>TotalGift</th>\n",
       "      <th>MinGift</th>\n",
       "      <th>MaxGift</th>\n",
       "      <th>GaveLastYear</th>\n",
       "      <th>AmtLastYear</th>\n",
       "      <th>Contact</th>\n",
       "      <th>GaveThisYear</th>\n",
       "      <th>AmtThisYear</th>\n",
       "    </tr>\n",
       "  </thead>\n",
       "  <tbody>\n",
       "    <tr>\n",
       "      <th>370298</th>\n",
       "      <td>2370299.0</td>\n",
       "      <td>GALLION</td>\n",
       "      <td>DONNIE</td>\n",
       "      <td>0.0</td>\n",
       "      <td>36.0</td>\n",
       "      <td>50100.0</td>\n",
       "      <td>University / College</td>\n",
       "      <td>Rural</td>\n",
       "      <td>2.0</td>\n",
       "      <td>0.0</td>\n",
       "      <td>...</td>\n",
       "      <td>NaN</td>\n",
       "      <td>NaN</td>\n",
       "      <td>NaN</td>\n",
       "      <td>NaN</td>\n",
       "      <td>NaN</td>\n",
       "      <td>0.0</td>\n",
       "      <td>0.0</td>\n",
       "      <td>0.0</td>\n",
       "      <td>1.0</td>\n",
       "      <td>30.0</td>\n",
       "    </tr>\n",
       "    <tr>\n",
       "      <th>989715</th>\n",
       "      <td>2989716.0</td>\n",
       "      <td>ANTHONY</td>\n",
       "      <td>LAURA</td>\n",
       "      <td>1.0</td>\n",
       "      <td>24.0</td>\n",
       "      <td>1800.0</td>\n",
       "      <td>University / College</td>\n",
       "      <td>Suburban</td>\n",
       "      <td>8.0</td>\n",
       "      <td>0.0</td>\n",
       "      <td>...</td>\n",
       "      <td>NaN</td>\n",
       "      <td>NaN</td>\n",
       "      <td>NaN</td>\n",
       "      <td>NaN</td>\n",
       "      <td>NaN</td>\n",
       "      <td>0.0</td>\n",
       "      <td>0.0</td>\n",
       "      <td>0.0</td>\n",
       "      <td>1.0</td>\n",
       "      <td>20.0</td>\n",
       "    </tr>\n",
       "  </tbody>\n",
       "</table>\n",
       "<p>2 rows × 22 columns</p>\n",
       "</div>"
      ],
      "text/plain": [
       "               ID LastName FirstName  Woman   Age   Salary  \\\n",
       "370298  2370299.0  GALLION    DONNIE    0.0  36.0  50100.0   \n",
       "989715  2989716.0  ANTHONY     LAURA    1.0  24.0   1800.0   \n",
       "\n",
       "                   Education      City  SeniorList  NbActivities  ...  \\\n",
       "370298  University / College     Rural         2.0           0.0  ...   \n",
       "989715  University / College  Suburban         8.0           0.0  ...   \n",
       "\n",
       "        Frequency  Seniority  TotalGift  MinGift  MaxGift  GaveLastYear  \\\n",
       "370298        NaN        NaN        NaN      NaN      NaN           0.0   \n",
       "989715        NaN        NaN        NaN      NaN      NaN           0.0   \n",
       "\n",
       "        AmtLastYear  Contact  GaveThisYear  AmtThisYear  \n",
       "370298          0.0      0.0           1.0         30.0  \n",
       "989715          0.0      0.0           1.0         20.0  \n",
       "\n",
       "[2 rows x 22 columns]"
      ]
     },
     "execution_count": 7,
     "metadata": {},
     "output_type": "execute_result"
    }
   ],
   "source": [
    "#Step1 Merge the Data\n",
    "data_merge = pd.merge(data1, data2, on=[\"ID\"],how=\"right\")\n",
    "data_merge = data_merge.loc[(data_merge['GaveThisYear'] ==1)]\n",
    "data_merge.sample(2)"
   ]
  },
  {
   "cell_type": "markdown",
   "id": "9b4a77b7-6c92-44e7-a936-284a643edd13",
   "metadata": {},
   "source": [
    "## Treating Missing Values\n",
    "\n",
    ">Please be aware that deleting all missing values can induce a selection bias. \n",
    "Some missing values are very informative. For example, when MinGift is missing, it means that the donor never gave in the past 10 years (leading to but excluding last year). Instead of deleting this information, replacing it by 0 is more appropriate!\n",
    "\n",
    "> A good understanding of the business case and the data can help you come up with more appropriate strategies to deal with missing values."
   ]
  },
  {
   "cell_type": "code",
   "execution_count": 8,
   "id": "8189f447-0c2a-42d0-964e-11fa43b82411",
   "metadata": {},
   "outputs": [
    {
     "data": {
      "text/html": [
       "<div>\n",
       "<style scoped>\n",
       "    .dataframe tbody tr th:only-of-type {\n",
       "        vertical-align: middle;\n",
       "    }\n",
       "\n",
       "    .dataframe tbody tr th {\n",
       "        vertical-align: top;\n",
       "    }\n",
       "\n",
       "    .dataframe thead th {\n",
       "        text-align: right;\n",
       "    }\n",
       "</style>\n",
       "<table border=\"1\" class=\"dataframe\">\n",
       "  <thead>\n",
       "    <tr style=\"text-align: right;\">\n",
       "      <th></th>\n",
       "      <th>ID</th>\n",
       "      <th>LastName</th>\n",
       "      <th>FirstName</th>\n",
       "      <th>Woman</th>\n",
       "      <th>Age</th>\n",
       "      <th>Salary</th>\n",
       "      <th>Education</th>\n",
       "      <th>City</th>\n",
       "      <th>SeniorList</th>\n",
       "      <th>NbActivities</th>\n",
       "      <th>...</th>\n",
       "      <th>Frequency</th>\n",
       "      <th>Seniority</th>\n",
       "      <th>TotalGift</th>\n",
       "      <th>MinGift</th>\n",
       "      <th>MaxGift</th>\n",
       "      <th>GaveLastYear</th>\n",
       "      <th>AmtLastYear</th>\n",
       "      <th>Contact</th>\n",
       "      <th>GaveThisYear</th>\n",
       "      <th>AmtThisYear</th>\n",
       "    </tr>\n",
       "  </thead>\n",
       "  <tbody>\n",
       "    <tr>\n",
       "      <th>975709</th>\n",
       "      <td>2975710.0</td>\n",
       "      <td>FERNANDEZ</td>\n",
       "      <td>MARGRET</td>\n",
       "      <td>1.0</td>\n",
       "      <td>16.0</td>\n",
       "      <td>17200.0</td>\n",
       "      <td>High School</td>\n",
       "      <td>City</td>\n",
       "      <td>4.0</td>\n",
       "      <td>1.0</td>\n",
       "      <td>...</td>\n",
       "      <td>NaN</td>\n",
       "      <td>NaN</td>\n",
       "      <td>NaN</td>\n",
       "      <td>0.0</td>\n",
       "      <td>NaN</td>\n",
       "      <td>0.0</td>\n",
       "      <td>0.0</td>\n",
       "      <td>1.0</td>\n",
       "      <td>1.0</td>\n",
       "      <td>90.0</td>\n",
       "    </tr>\n",
       "    <tr>\n",
       "      <th>865537</th>\n",
       "      <td>2865538.0</td>\n",
       "      <td>CLARK</td>\n",
       "      <td>ROBERT</td>\n",
       "      <td>0.0</td>\n",
       "      <td>31.0</td>\n",
       "      <td>19800.0</td>\n",
       "      <td>University / College</td>\n",
       "      <td>City</td>\n",
       "      <td>4.0</td>\n",
       "      <td>2.0</td>\n",
       "      <td>...</td>\n",
       "      <td>3.0</td>\n",
       "      <td>4.0</td>\n",
       "      <td>70.0</td>\n",
       "      <td>20.0</td>\n",
       "      <td>30.0</td>\n",
       "      <td>0.0</td>\n",
       "      <td>0.0</td>\n",
       "      <td>0.0</td>\n",
       "      <td>1.0</td>\n",
       "      <td>20.0</td>\n",
       "    </tr>\n",
       "  </tbody>\n",
       "</table>\n",
       "<p>2 rows × 22 columns</p>\n",
       "</div>"
      ],
      "text/plain": [
       "               ID   LastName FirstName  Woman   Age   Salary  \\\n",
       "975709  2975710.0  FERNANDEZ   MARGRET    1.0  16.0  17200.0   \n",
       "865537  2865538.0      CLARK    ROBERT    0.0  31.0  19800.0   \n",
       "\n",
       "                   Education  City  SeniorList  NbActivities  ...  Frequency  \\\n",
       "975709           High School  City         4.0           1.0  ...        NaN   \n",
       "865537  University / College  City         4.0           2.0  ...        3.0   \n",
       "\n",
       "        Seniority  TotalGift  MinGift  MaxGift  GaveLastYear  AmtLastYear  \\\n",
       "975709        NaN        NaN      0.0      NaN           0.0          0.0   \n",
       "865537        4.0       70.0     20.0     30.0           0.0          0.0   \n",
       "\n",
       "        Contact  GaveThisYear  AmtThisYear  \n",
       "975709      1.0           1.0         90.0  \n",
       "865537      0.0           1.0         20.0  \n",
       "\n",
       "[2 rows x 22 columns]"
      ]
     },
     "execution_count": 8,
     "metadata": {},
     "output_type": "execute_result"
    }
   ],
   "source": [
    "# In this case, we are replacing MinGift by 0.\n",
    "# You can do the same for what you think is reasonable for dealing with the other variables.\n",
    "\n",
    "data_merge[['MinGift']] = data_merge[['MinGift']].fillna(value=0)  \n",
    "\n",
    "data_merge.sample(2)"
   ]
  },
  {
   "cell_type": "markdown",
   "id": "1137c438-65da-4f16-94b8-dee2f83e3abe",
   "metadata": {},
   "source": [
    "## Data Partition"
   ]
  },
  {
   "cell_type": "code",
   "execution_count": 9,
   "id": "4f0675fa-f72b-4786-bce4-0cee646d258a",
   "metadata": {},
   "outputs": [
    {
     "data": {
      "text/html": [
       "<div>\n",
       "<style scoped>\n",
       "    .dataframe tbody tr th:only-of-type {\n",
       "        vertical-align: middle;\n",
       "    }\n",
       "\n",
       "    .dataframe tbody tr th {\n",
       "        vertical-align: top;\n",
       "    }\n",
       "\n",
       "    .dataframe thead th {\n",
       "        text-align: right;\n",
       "    }\n",
       "</style>\n",
       "<table border=\"1\" class=\"dataframe\">\n",
       "  <thead>\n",
       "    <tr style=\"text-align: right;\">\n",
       "      <th></th>\n",
       "      <th>ID</th>\n",
       "      <th>LastName</th>\n",
       "      <th>FirstName</th>\n",
       "      <th>Woman</th>\n",
       "      <th>Age</th>\n",
       "      <th>Salary</th>\n",
       "      <th>Education</th>\n",
       "      <th>City</th>\n",
       "      <th>SeniorList</th>\n",
       "      <th>NbActivities</th>\n",
       "      <th>...</th>\n",
       "      <th>Frequency</th>\n",
       "      <th>Seniority</th>\n",
       "      <th>TotalGift</th>\n",
       "      <th>MinGift</th>\n",
       "      <th>MaxGift</th>\n",
       "      <th>GaveLastYear</th>\n",
       "      <th>AmtLastYear</th>\n",
       "      <th>Contact</th>\n",
       "      <th>GaveThisYear</th>\n",
       "      <th>AmtThisYear</th>\n",
       "    </tr>\n",
       "  </thead>\n",
       "  <tbody>\n",
       "    <tr>\n",
       "      <th>582802</th>\n",
       "      <td>2582803.0</td>\n",
       "      <td>PARSONS</td>\n",
       "      <td>ALLISON</td>\n",
       "      <td>1.0</td>\n",
       "      <td>58.0</td>\n",
       "      <td>182300.0</td>\n",
       "      <td>University / College</td>\n",
       "      <td>Suburban</td>\n",
       "      <td>1.0</td>\n",
       "      <td>0.0</td>\n",
       "      <td>...</td>\n",
       "      <td>NaN</td>\n",
       "      <td>NaN</td>\n",
       "      <td>NaN</td>\n",
       "      <td>0.0</td>\n",
       "      <td>NaN</td>\n",
       "      <td>0.0</td>\n",
       "      <td>0.0</td>\n",
       "      <td>0.0</td>\n",
       "      <td>1.0</td>\n",
       "      <td>30.0</td>\n",
       "    </tr>\n",
       "    <tr>\n",
       "      <th>610158</th>\n",
       "      <td>2610159.0</td>\n",
       "      <td>ELAM</td>\n",
       "      <td>WANDA</td>\n",
       "      <td>1.0</td>\n",
       "      <td>52.0</td>\n",
       "      <td>65000.0</td>\n",
       "      <td>High School</td>\n",
       "      <td>Rural</td>\n",
       "      <td>1.0</td>\n",
       "      <td>0.0</td>\n",
       "      <td>...</td>\n",
       "      <td>NaN</td>\n",
       "      <td>NaN</td>\n",
       "      <td>NaN</td>\n",
       "      <td>0.0</td>\n",
       "      <td>NaN</td>\n",
       "      <td>0.0</td>\n",
       "      <td>0.0</td>\n",
       "      <td>1.0</td>\n",
       "      <td>1.0</td>\n",
       "      <td>10.0</td>\n",
       "    </tr>\n",
       "  </tbody>\n",
       "</table>\n",
       "<p>2 rows × 22 columns</p>\n",
       "</div>"
      ],
      "text/plain": [
       "               ID LastName FirstName  Woman   Age    Salary  \\\n",
       "582802  2582803.0  PARSONS   ALLISON    1.0  58.0  182300.0   \n",
       "610158  2610159.0     ELAM     WANDA    1.0  52.0   65000.0   \n",
       "\n",
       "                   Education      City  SeniorList  NbActivities  ...  \\\n",
       "582802  University / College  Suburban         1.0           0.0  ...   \n",
       "610158           High School     Rural         1.0           0.0  ...   \n",
       "\n",
       "        Frequency  Seniority  TotalGift  MinGift  MaxGift  GaveLastYear  \\\n",
       "582802        NaN        NaN        NaN      0.0      NaN           0.0   \n",
       "610158        NaN        NaN        NaN      0.0      NaN           0.0   \n",
       "\n",
       "        AmtLastYear  Contact  GaveThisYear  AmtThisYear  \n",
       "582802          0.0      0.0           1.0         30.0  \n",
       "610158          0.0      1.0           1.0         10.0  \n",
       "\n",
       "[2 rows x 22 columns]"
      ]
     },
     "execution_count": 9,
     "metadata": {},
     "output_type": "execute_result"
    }
   ],
   "source": [
    "# The code below is an illustration on how to sample data on train and validation samples.\n",
    "# You could use another library or a built-in function to perform sampling.\n",
    "\n",
    "from sklearn.model_selection import train_test_split\n",
    "train, validation = train_test_split(data_merge, test_size=0.5,random_state=5678) # you can change the percentage\n",
    "train.sample(2)"
   ]
  },
  {
   "cell_type": "markdown",
   "id": "dfc2e8f5-9790-46bb-88f9-8517fea53e26",
   "metadata": {},
   "source": [
    "\n",
    "## Prebuilt Models\n",
    "\n",
    "***\n",
    "### Linear Regression Model\n",
    "\n",
    "\n",
    "> The [sk-learn library]( https://scikit-learn.org/stable/index.html) offers more adavanced models. "
   ]
  },
  {
   "cell_type": "code",
   "execution_count": 10,
   "id": "9f33ea4c",
   "metadata": {},
   "outputs": [
    {
     "name": "stdout",
     "output_type": "stream",
     "text": [
      "[ 51.16213414  13.54362045 120.78262404 ...  37.6595094   68.71680603\n",
      "  60.2614866 ]\n"
     ]
    }
   ],
   "source": [
    "from sklearn import linear_model\n",
    "\n",
    "#comment: it's numpy array\n",
    "X_train = train[['Age', 'Salary','Contact','MinGift', 'GaveLastYear','AmtLastYear','Woman', 'NbActivities' ]] \n",
    "Y_train = train['AmtThisYear']\n",
    "X_valid = validation[['Age', 'Salary','Contact','MinGift', 'GaveLastYear','AmtLastYear','Woman', 'NbActivities']] \n",
    "Y_valid = validation['AmtThisYear']\n",
    "\n",
    "regr = linear_model.LinearRegression()\n",
    "\n",
    "regr.fit(X_train,Y_train)\n",
    "\n",
    "regr_predict=regr.predict(X_valid)\n",
    "\n",
    "print(regr_predict)"
   ]
  },
  {
   "cell_type": "code",
   "execution_count": 11,
   "id": "a6ff2946",
   "metadata": {},
   "outputs": [
    {
     "name": "stdout",
     "output_type": "stream",
     "text": [
      "63.977629882676396\n",
      "54397.08072509486\n",
      "233.2318175659034\n"
     ]
    }
   ],
   "source": [
    "#you can change the criteria\n",
    "\n",
    "import numpy as np\n",
    "from sklearn import metrics\n",
    "#MAE\n",
    "print(metrics.mean_absolute_error(Y_valid,regr_predict))\n",
    "#MSE\n",
    "print(metrics.mean_squared_error(Y_valid,regr_predict))\n",
    "#RMSE\n",
    "print(np.sqrt(metrics.mean_squared_error(Y_valid,regr_predict)))"
   ]
  },
  {
   "cell_type": "markdown",
   "id": "a6f78891",
   "metadata": {},
   "source": [
    "## Regression Tree Model（Py）"
   ]
  },
  {
   "cell_type": "code",
   "execution_count": 12,
   "id": "0560fcdd",
   "metadata": {},
   "outputs": [
    {
     "name": "stdout",
     "output_type": "stream",
     "text": [
      "[ 51.14299611  27.27249619 139.59760274 ...  52.95749142  47.21358603\n",
      "  67.88028169]\n"
     ]
    }
   ],
   "source": [
    "from sklearn.tree import DecisionTreeRegressor\n",
    "\n",
    "X_train = train[['Age', 'Salary','Contact','MinGift', 'GaveLastYear','AmtLastYear','Woman', 'NbActivities' ]] \n",
    "Y_train = train['AmtThisYear']\n",
    "X_valid = validation[['Age', 'Salary','Contact','MinGift', 'GaveLastYear','AmtLastYear','Woman', 'NbActivities' ]] \n",
    "Y_valid = validation['AmtThisYear']\n",
    "\n",
    "DT_model = DecisionTreeRegressor(max_depth=5, random_state=0).fit(X_train,Y_train)\n",
    "DT_predict = DT_model.predict(X_valid) #Predictions on Testing data\n",
    "print(DT_predict)"
   ]
  },
  {
   "cell_type": "code",
   "execution_count": 13,
   "id": "a634a11d",
   "metadata": {},
   "outputs": [
    {
     "name": "stdout",
     "output_type": "stream",
     "text": [
      "63.45359546478338\n",
      "54557.807029103526\n",
      "233.5761268389891\n"
     ]
    }
   ],
   "source": [
    "#you can change the criteria\n",
    "#MAE\n",
    "print(metrics.mean_absolute_error(Y_valid,DT_predict))\n",
    "#MSE\n",
    "print(metrics.mean_squared_error(Y_valid,DT_predict))\n",
    "#RMSE\n",
    "print(np.sqrt(metrics.mean_squared_error(Y_valid,DT_predict)))"
   ]
  },
  {
   "cell_type": "markdown",
   "id": "28190b6e",
   "metadata": {},
   "source": [
    "### **Other models may also be helpful for this game**\n",
    "\n",
    "Reference: https://scikit-learn.org/stable/supervised_learning.html\n"
   ]
  },
  {
   "cell_type": "markdown",
   "id": "95983c35",
   "metadata": {},
   "source": [
    "## Scoring New Data\n",
    "\n",
    "### Prepare data for scoring"
   ]
  },
  {
   "cell_type": "code",
   "execution_count": 14,
   "id": "d1639b73",
   "metadata": {},
   "outputs": [],
   "source": [
    "data3 = sas_session.sasdata2dataframe(\n",
    "table='score',\n",
    "libref='cortex'\n",
    ")\n",
    "data4 = sas_session.sasdata2dataframe(\n",
    "table='score_rd2_contact',\n",
    "libref='cortex'\n",
    ")\n",
    "data5 = sas_session.sasdata2dataframe(\n",
    "table='score_rd2_nocontact',\n",
    "libref='cortex'\n",
    ")"
   ]
  },
  {
   "cell_type": "markdown",
   "id": "47f7d483-c503-4da1-accf-8c080a7b81b0",
   "metadata": {},
   "source": [
    " ### Score new data based on your champion model\n",
    " \n",
    " Pick you champion model from previous steps and use it to predict next year donations. \n",
    " \n",
    " In this case, the linear regression model performed better than the regression tree based on the MSE criteria."
   ]
  },
  {
   "cell_type": "markdown",
   "id": "5bdb9c23-03d9-4dfe-82ca-667b44e99603",
   "metadata": {},
   "source": [
    "### Predict 'amount given' for members who were contacted"
   ]
  },
  {
   "cell_type": "code",
   "execution_count": 15,
   "id": "09ec1430",
   "metadata": {},
   "outputs": [
    {
     "data": {
      "text/html": [
       "<div>\n",
       "<style scoped>\n",
       "    .dataframe tbody tr th:only-of-type {\n",
       "        vertical-align: middle;\n",
       "    }\n",
       "\n",
       "    .dataframe tbody tr th {\n",
       "        vertical-align: top;\n",
       "    }\n",
       "\n",
       "    .dataframe thead th {\n",
       "        text-align: right;\n",
       "    }\n",
       "</style>\n",
       "<table border=\"1\" class=\"dataframe\">\n",
       "  <thead>\n",
       "    <tr style=\"text-align: right;\">\n",
       "      <th></th>\n",
       "      <th>ID</th>\n",
       "      <th>AmtContact</th>\n",
       "    </tr>\n",
       "  </thead>\n",
       "  <tbody>\n",
       "    <tr>\n",
       "      <th>0</th>\n",
       "      <td>2000001.0</td>\n",
       "      <td>65.415652</td>\n",
       "    </tr>\n",
       "    <tr>\n",
       "      <th>1</th>\n",
       "      <td>2000002.0</td>\n",
       "      <td>58.022398</td>\n",
       "    </tr>\n",
       "    <tr>\n",
       "      <th>2</th>\n",
       "      <td>2000003.0</td>\n",
       "      <td>67.357188</td>\n",
       "    </tr>\n",
       "    <tr>\n",
       "      <th>3</th>\n",
       "      <td>2000004.0</td>\n",
       "      <td>37.733732</td>\n",
       "    </tr>\n",
       "    <tr>\n",
       "      <th>4</th>\n",
       "      <td>2000005.0</td>\n",
       "      <td>72.674220</td>\n",
       "    </tr>\n",
       "  </tbody>\n",
       "</table>\n",
       "</div>"
      ],
      "text/plain": [
       "          ID  AmtContact\n",
       "0  2000001.0   65.415652\n",
       "1  2000002.0   58.022398\n",
       "2  2000003.0   67.357188\n",
       "3  2000004.0   37.733732\n",
       "4  2000005.0   72.674220"
      ]
     },
     "execution_count": 15,
     "metadata": {},
     "output_type": "execute_result"
    }
   ],
   "source": [
    "scoring_data_contact = pd.merge(data3, data4, on=[\"ID\"],how=\"right\")\n",
    "\n",
    "# Preform the same strategy for handling missing values for the score dataset.\n",
    "# In this case, we will only replace missing values of the MinGift variable.\n",
    "\n",
    "scoring_data_contact[['MinGift']] = scoring_data_contact[['MinGift']].fillna(value=0) \n",
    "\n",
    "#scoring_data_contact.head()\n",
    "\n",
    "X = scoring_data_contact[['Age', 'Salary','Contact','MinGift', 'AmtLastYear','GaveLastYear','Woman', 'NbActivities' ]] \n",
    "\n",
    "regr_predict_contact=regr.predict(X)\n",
    "\n",
    "scoring_data_contact['Prediction'] = regr_predict_contact\n",
    "\n",
    "scoring_data_contact= scoring_data_contact[['ID','Prediction']]\n",
    "scoring_data_contact = scoring_data_contact.rename({'Prediction': 'AmtContact'}, axis=1) \n",
    "scoring_data_contact.head()"
   ]
  },
  {
   "cell_type": "markdown",
   "id": "f3fa6e3f-da9c-4121-b896-f5ba52f8d4f3",
   "metadata": {},
   "source": [
    "### Predict 'amount given' for members who were not contacted"
   ]
  },
  {
   "cell_type": "code",
   "execution_count": 16,
   "id": "9c0f1c5b",
   "metadata": {},
   "outputs": [
    {
     "data": {
      "text/html": [
       "<div>\n",
       "<style scoped>\n",
       "    .dataframe tbody tr th:only-of-type {\n",
       "        vertical-align: middle;\n",
       "    }\n",
       "\n",
       "    .dataframe tbody tr th {\n",
       "        vertical-align: top;\n",
       "    }\n",
       "\n",
       "    .dataframe thead th {\n",
       "        text-align: right;\n",
       "    }\n",
       "</style>\n",
       "<table border=\"1\" class=\"dataframe\">\n",
       "  <thead>\n",
       "    <tr style=\"text-align: right;\">\n",
       "      <th></th>\n",
       "      <th>ID</th>\n",
       "      <th>AmtNoContact</th>\n",
       "    </tr>\n",
       "  </thead>\n",
       "  <tbody>\n",
       "    <tr>\n",
       "      <th>0</th>\n",
       "      <td>2000001.0</td>\n",
       "      <td>70.365631</td>\n",
       "    </tr>\n",
       "    <tr>\n",
       "      <th>1</th>\n",
       "      <td>2000002.0</td>\n",
       "      <td>62.972377</td>\n",
       "    </tr>\n",
       "    <tr>\n",
       "      <th>2</th>\n",
       "      <td>2000003.0</td>\n",
       "      <td>72.307167</td>\n",
       "    </tr>\n",
       "    <tr>\n",
       "      <th>3</th>\n",
       "      <td>2000004.0</td>\n",
       "      <td>42.683711</td>\n",
       "    </tr>\n",
       "    <tr>\n",
       "      <th>4</th>\n",
       "      <td>2000005.0</td>\n",
       "      <td>77.624200</td>\n",
       "    </tr>\n",
       "  </tbody>\n",
       "</table>\n",
       "</div>"
      ],
      "text/plain": [
       "          ID  AmtNoContact\n",
       "0  2000001.0     70.365631\n",
       "1  2000002.0     62.972377\n",
       "2  2000003.0     72.307167\n",
       "3  2000004.0     42.683711\n",
       "4  2000005.0     77.624200"
      ]
     },
     "execution_count": 16,
     "metadata": {},
     "output_type": "execute_result"
    }
   ],
   "source": [
    "scoring_data_nocontact = pd.merge(data3, data5, on=[\"ID\"],how=\"right\")\n",
    "\n",
    "# Preform the same strategy for handling missing values for the score dataset.\n",
    "# In this case, we will only replace missing values of the MinGift variable.\n",
    "\n",
    "scoring_data_nocontact[['MinGift']] = scoring_data_nocontact[['MinGift']].fillna(value=0)\n",
    "\n",
    "#scoring_data_nocontact.head()\n",
    "\n",
    "X = scoring_data_nocontact[['Age', 'Salary','Contact','MinGift','AmtLastYear', 'GaveLastYear','Woman', 'NbActivities' ]] \n",
    "\n",
    "regr_predict_nocontact=regr.predict(X)\n",
    "\n",
    "scoring_data_nocontact['Prediction'] = regr_predict_nocontact\n",
    "\n",
    "scoring_data_nocontact= scoring_data_nocontact[['ID','Prediction']]\n",
    "scoring_data_nocontact = scoring_data_nocontact.rename({'Prediction': 'AmtNoContact'}, axis=1) \n",
    "scoring_data_nocontact.head()"
   ]
  },
  {
   "cell_type": "code",
   "execution_count": 17,
   "id": "5036d69c",
   "metadata": {},
   "outputs": [
    {
     "data": {
      "text/html": [
       "<div>\n",
       "<style scoped>\n",
       "    .dataframe tbody tr th:only-of-type {\n",
       "        vertical-align: middle;\n",
       "    }\n",
       "\n",
       "    .dataframe tbody tr th {\n",
       "        vertical-align: top;\n",
       "    }\n",
       "\n",
       "    .dataframe thead th {\n",
       "        text-align: right;\n",
       "    }\n",
       "</style>\n",
       "<table border=\"1\" class=\"dataframe\">\n",
       "  <thead>\n",
       "    <tr style=\"text-align: right;\">\n",
       "      <th></th>\n",
       "      <th>ID</th>\n",
       "      <th>AmtContact</th>\n",
       "      <th>AmtNoContact</th>\n",
       "    </tr>\n",
       "  </thead>\n",
       "  <tbody>\n",
       "    <tr>\n",
       "      <th>0</th>\n",
       "      <td>2000001.0</td>\n",
       "      <td>65.415652</td>\n",
       "      <td>70.365631</td>\n",
       "    </tr>\n",
       "    <tr>\n",
       "      <th>1</th>\n",
       "      <td>2000002.0</td>\n",
       "      <td>58.022398</td>\n",
       "      <td>62.972377</td>\n",
       "    </tr>\n",
       "    <tr>\n",
       "      <th>2</th>\n",
       "      <td>2000003.0</td>\n",
       "      <td>67.357188</td>\n",
       "      <td>72.307167</td>\n",
       "    </tr>\n",
       "  </tbody>\n",
       "</table>\n",
       "</div>"
      ],
      "text/plain": [
       "          ID  AmtContact  AmtNoContact\n",
       "0  2000001.0   65.415652     70.365631\n",
       "1  2000002.0   58.022398     62.972377\n",
       "2  2000003.0   67.357188     72.307167"
      ]
     },
     "execution_count": 17,
     "metadata": {},
     "output_type": "execute_result"
    }
   ],
   "source": [
    "result = pd.merge(scoring_data_contact, scoring_data_nocontact, on=[\"ID\"],how=\"right\")\n",
    "result.sort_values(by=['ID'], inplace=True)\n",
    "result.head(3)"
   ]
  },
  {
   "cell_type": "markdown",
   "id": "f09bf90d",
   "metadata": {},
   "source": [
    "## Exporting Results to a CSV File"
   ]
  },
  {
   "cell_type": "code",
   "execution_count": 18,
   "id": "606bf0a9",
   "metadata": {},
   "outputs": [],
   "source": [
    "result.to_csv('Round2_Output_amt.csv', index=False)"
   ]
  }
 ],
 "metadata": {
  "kernelspec": {
   "display_name": "Python 3",
   "language": "python",
   "name": "python3"
  },
  "language_info": {
   "codemirror_mode": {
    "name": "ipython",
    "version": 3
   },
   "file_extension": ".py",
   "mimetype": "text/x-python",
   "name": "python",
   "nbconvert_exporter": "python",
   "pygments_lexer": "ipython3",
   "version": "3.8.8"
  }
 },
 "nbformat": 4,
 "nbformat_minor": 5
}
